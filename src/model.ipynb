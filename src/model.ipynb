{
 "cells": [
  {
   "cell_type": "code",
   "execution_count": 2,
   "id": "f28ac071-6172-4c7c-9fec-be5bc0737e0f",
   "metadata": {},
   "outputs": [],
   "source": [
    "import pandas as pd\n",
    "import numpy as np\n",
    "from sklearn.model_selection import KFold\n",
    "from sklearn.linear_model import LogisticRegressionCV\n",
    "from sklearn.preprocessing import LabelEncoder\n",
    "from sklearn.metrics import accuracy_score"
   ]
  },
  {
   "cell_type": "code",
   "execution_count": 3,
   "id": "58eda4a4-60d6-4ce3-b86d-b1849dabb8b7",
   "metadata": {},
   "outputs": [],
   "source": [
    "X = pd.read_csv(\"./X_train.csv\", index_col=0)\n",
    "y = pd.read_csv(\"y_train.csv\", index_col = 0)"
   ]
  },
  {
   "cell_type": "code",
   "execution_count": 4,
   "id": "c2ea2fdd-234c-487d-90bb-bb77932133dc",
   "metadata": {},
   "outputs": [
    {
     "name": "stdout",
     "output_type": "stream",
     "text": [
      "Index(['Season', 'Seed_A', 'Seed_B'], dtype='object')\n",
      "      y\n",
      "0     1\n",
      "1     0\n",
      "2     1\n",
      "3     1\n",
      "4     0\n",
      "...  ..\n",
      "2446  1\n",
      "2447  0\n",
      "2448  0\n",
      "2449  0\n",
      "2450  1\n",
      "\n",
      "[2451 rows x 1 columns]\n"
     ]
    }
   ],
   "source": [
    "print(X.columns)\n",
    "print(y)"
   ]
  },
  {
   "cell_type": "code",
   "execution_count": 5,
   "id": "d3c7fd79-c34d-4d81-9169-868d5b89a10b",
   "metadata": {},
   "outputs": [],
   "source": [
    "le = LabelEncoder()\n",
    "cat_vars = [\"Seed_A\", \"Seed_B\"]\n",
    "for vars in cat_vars:\n",
    "    X[vars] = le.fit_transform(X[vars])"
   ]
  },
  {
   "cell_type": "code",
   "execution_count": 6,
   "id": "5a34cb27-3708-41b5-81a5-928ae9b14939",
   "metadata": {},
   "outputs": [],
   "source": [
    "kf = KFold(n_splits = 3)"
   ]
  },
  {
   "cell_type": "code",
   "execution_count": 7,
   "id": "7ff6d1a7-40fa-415c-9915-2b2ce2bb6e82",
   "metadata": {},
   "outputs": [],
   "source": [
    "param_dict = {\"LinearModel\": [0.0001, 0.0005, 0.001, 0.005, 0.01]}"
   ]
  },
  {
   "cell_type": "code",
   "execution_count": 8,
   "id": "305eff5f-a848-4fc8-95a2-169e24152ca1",
   "metadata": {},
   "outputs": [],
   "source": [
    "algo_dict =  {\"LinearModel\": LogisticRegressionCV(cv=5, random_state=0)}"
   ]
  },
  {
   "cell_type": "code",
   "execution_count": 10,
   "id": "088f7c1a-19ed-4d42-a0e7-58bd0bcfc703",
   "metadata": {},
   "outputs": [
    {
     "name": "stderr",
     "output_type": "stream",
     "text": [
      "C:\\Users\\kyler\\anaconda3\\envs\\python_env\\Lib\\site-packages\\sklearn\\utils\\validation.py:1300: DataConversionWarning: A column-vector y was passed when a 1d array was expected. Please change the shape of y to (n_samples, ), for example using ravel().\n",
      "  y = column_or_1d(y, warn=True)\n",
      "C:\\Users\\kyler\\anaconda3\\envs\\python_env\\Lib\\site-packages\\sklearn\\utils\\validation.py:1300: DataConversionWarning: A column-vector y was passed when a 1d array was expected. Please change the shape of y to (n_samples, ), for example using ravel().\n",
      "  y = column_or_1d(y, warn=True)\n"
     ]
    },
    {
     "name": "stdout",
     "output_type": "stream",
     "text": [
      "     algorithm  test_accuracy_percent\n",
      "0  LinearModel               0.692370\n",
      "1  featureless               0.493268\n"
     ]
    },
    {
     "name": "stderr",
     "output_type": "stream",
     "text": [
      "C:\\Users\\kyler\\anaconda3\\envs\\python_env\\Lib\\site-packages\\sklearn\\utils\\validation.py:1300: DataConversionWarning: A column-vector y was passed when a 1d array was expected. Please change the shape of y to (n_samples, ), for example using ravel().\n",
      "  y = column_or_1d(y, warn=True)\n"
     ]
    }
   ],
   "source": [
    "result_list = []\n",
    "for fold_id, idx in enumerate(kf.split(X)):\n",
    "    index_dict = dict(zip(['train', 'test'], idx))\n",
    "    set_data_dict = {}\n",
    "    for set_name, index_vec in index_dict.items():\n",
    "        set_data_dict[set_name] = {\n",
    "            \"X\": X.loc[index_vec, :],\n",
    "            \"y\": y.loc[index_vec, :]\n",
    "        }\n",
    "    for algo_names, algos in algo_dict.items():\n",
    "        loss_df = algos.fit(set_data_dict[\"train\"][\"X\"], set_data_dict[\"train\"][\"y\"])\n",
    "    pred_dict = {}\n",
    "    for names, models in algo_dict.items():\n",
    "        pred_dict[names] = models.predict(set_data_dict[\"test\"][\"X\"])\n",
    "        values, counts = np.unique(set_data_dict['train']['y'], return_counts=True)\n",
    "        pred_dict['featureless'] = np.repeat(values[np.argmax(counts)],\n",
    "                                             len(set_data_dict[\"test\"][\"y\"]))\n",
    "        for algorithm, pred_vec in pred_dict.items():\n",
    "            iter_err_list = {\n",
    "                \"test_accuracy_percent\": accuracy_score(set_data_dict['test']['y'], pred_vec),\n",
    "                \"fold_id\": fold_id,\n",
    "                \"algorithm\": algorithm\n",
    "            }\n",
    "            result_list.append(pd.DataFrame(iter_err_list, index=[0]))\n",
    "iter_err_df = pd.concat(result_list)\n",
    "test_acc_df =  iter_err_df.groupby(['algorithm'])['test_accuracy_percent'].mean().reset_index()\n",
    "# print(test_acc_df)"
   ]
  },
  {
   "cell_type": "code",
   "execution_count": 12,
   "id": "26742216-9f48-4673-bd9b-706f3d6cb146",
   "metadata": {},
   "outputs": [],
   "source": [
    "iter_err_df.to_csv(\"./model_results.csv\")"
   ]
  }
 ],
 "metadata": {
  "kernelspec": {
   "display_name": "Python 3 (ipykernel)",
   "language": "python",
   "name": "python3"
  },
  "language_info": {
   "codemirror_mode": {
    "name": "ipython",
    "version": 3
   },
   "file_extension": ".py",
   "mimetype": "text/x-python",
   "name": "python",
   "nbconvert_exporter": "python",
   "pygments_lexer": "ipython3",
   "version": "3.12.2"
  }
 },
 "nbformat": 4,
 "nbformat_minor": 5
}
